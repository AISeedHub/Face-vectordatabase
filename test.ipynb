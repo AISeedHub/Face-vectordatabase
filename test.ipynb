{
 "cells": [
  {
   "cell_type": "code",
   "execution_count": null,
   "id": "48d7708d",
   "metadata": {},
   "outputs": [],
   "source": [
    "import cv2\n",
    "import numpy as np\n",
    "import insightface\n",
    "from insightface.app import FaceAnalysis\n",
    "from insightface.data import get_image as ins_get_image\n",
    "\n",
    "\n",
    "app = FaceAnalysis(providers=['CUDAExecutionProvider', 'CPUExecutionProvider'])\n",
    "app.prepare(ctx_id=0, det_size=(640, 640))\n",
    "img = cv2.imread(\"test.jpg\")\n",
    "faces = app.get(img)\n",
    "rimg = app.draw_on(img, faces)\n",
    "cv2.imwrite(\"./t1_output.jpg\", rimg)"
   ]
  },
  {
   "cell_type": "markdown",
   "id": "7027b91c",
   "metadata": {},
   "source": [
    "# Calculate the face embedding"
   ]
  },
  {
   "cell_type": "code",
   "execution_count": null,
   "id": "b538cf9a",
   "metadata": {},
   "outputs": [],
   "source": [
    "import cv2\n",
    "\n",
    "# Ex\n",
    "import cv2\n",
    "from insightface.app import FaceAnalysis\n",
    "\n",
    "# Initialize the FaceAnalysis app\n",
    "app = FaceAnalysis(providers=['CUDAExecutionProvider', 'CPUExecutionProvider'])\n",
    "app.prepare(ctx_id=0, det_size=(640, 640))\n",
    "\n",
    "# Load the image\n",
    "img = cv2.imread(\"test.jpg\")\n",
    "\n",
    "# Detect faces in the image\n",
    "faces = app.get(img)\n",
    "\n",
    "# Loop through detected faces and calculate embeddings\n",
    "for i, face in enumerate(faces):\n",
    "    print(f\"Face {i+1}:\")\n",
    "    print(\"Bounding Box:\", face.bbox)\n",
    "    print(\"Embedding:\", face.embedding)  # Face embedding vector\n"
   ]
  },
  {
   "cell_type": "code",
   "execution_count": 15,
   "id": "96f6a0c8",
   "metadata": {},
   "outputs": [
    {
     "name": "stdout",
     "output_type": "stream",
     "text": [
      "Applied providers: ['CUDAExecutionProvider', 'CPUExecutionProvider'], with options: {'CUDAExecutionProvider': {'device_id': '0', 'has_user_compute_stream': '0', 'cudnn_conv1d_pad_to_nc1d': '0', 'user_compute_stream': '0', 'gpu_external_alloc': '0', 'gpu_mem_limit': '18446744073709551615', 'enable_cuda_graph': '0', 'gpu_external_free': '0', 'gpu_external_empty_cache': '0', 'arena_extend_strategy': 'kNextPowerOfTwo', 'cudnn_conv_algo_search': 'EXHAUSTIVE', 'do_copy_in_default_stream': '1', 'cudnn_conv_use_max_workspace': '1', 'tunable_op_enable': '0', 'tunable_op_tuning_enable': '0', 'tunable_op_max_tuning_duration_ms': '0', 'enable_skip_layer_norm_strict_mode': '0', 'prefer_nhwc': '0', 'use_ep_level_unified_stream': '0', 'use_tf32': '1', 'sdpa_kernel': '0', 'fuse_conv_bias': '0'}, 'CPUExecutionProvider': {}}\n",
      "Face Embedding: (1, 512)\n"
     ]
    }
   ],
   "source": [
    "import cv2\n",
    "import numpy as np\n",
    "from insightface.model_zoo import model_zoo\n",
    "\n",
    "# Load the face recognition model\n",
    "model = model_zoo.get_model('buffalo_l')  # You can choose other models if needed\n",
    "model.prepare(ctx_id=0)  # Use GPU (ctx_id=0) or CPU (ctx_id=-1)\n",
    "\n",
    "# Load the image\n",
    "img = cv2.imread(\"test.jpg\")\n",
    "\n",
    "# Preprocess the image (resize and normalize)\n",
    "# Assuming you already have the face bounding box (e.g., from a face detector)\n",
    "bbox = [50, 50, 200, 200]  # Example bounding box [x1, y1, x2, y2]\n",
    "face = img[int(bbox[1]):int(bbox[3]), int(bbox[0]):int(bbox[2])]  # Crop the face\n",
    "face = cv2.resize(face, (112, 112))  # Resize to 112x112 as required by the model\n",
    "face = cv2.cvtColor(face, cv2.COLOR_BGR2RGB)  # Convert to RGB\n",
    "face = np.transpose(face, (2, 0, 1))  # Change to CHW format\n",
    "face = np.expand_dims(face, axis=0).astype(np.float32) / 255.0  # Normalize to [0, 1]\n",
    "\n",
    "# Get the face embedding\n",
    "embedding = model.forward(face)\n",
    "\n",
    "# Print the embedding\n",
    "print(\"Face Embedding:\", embedding.shape)"
   ]
  },
  {
   "cell_type": "markdown",
   "id": "12232454",
   "metadata": {},
   "source": [
    "# Test vector database"
   ]
  },
  {
   "cell_type": "code",
   "execution_count": 1,
   "id": "a566d776",
   "metadata": {},
   "outputs": [
    {
     "name": "stdout",
     "output_type": "stream",
     "text": [
      "Creating collection 'face_embeddings'...\n",
      "Collection 'face_embeddings' created.\n"
     ]
    }
   ],
   "source": [
    "from db import collection"
   ]
  },
  {
   "cell_type": "code",
   "execution_count": 2,
   "id": "e383a060",
   "metadata": {},
   "outputs": [
    {
     "name": "stderr",
     "output_type": "stream",
     "text": [
      "e:\\AISeed\\Face-vectordatabase\\.venv-win\\Lib\\site-packages\\tqdm\\auto.py:21: TqdmWarning: IProgress not found. Please update jupyter and ipywidgets. See https://ipywidgets.readthedocs.io/en/stable/user_install.html\n",
      "  from .autonotebook import tqdm as notebook_tqdm\n"
     ]
    },
    {
     "name": "stdout",
     "output_type": "stream",
     "text": [
      "Applied providers: ['CUDAExecutionProvider', 'CPUExecutionProvider'], with options: {'CUDAExecutionProvider': {'device_id': '0', 'has_user_compute_stream': '0', 'cudnn_conv1d_pad_to_nc1d': '0', 'user_compute_stream': '0', 'gpu_external_alloc': '0', 'gpu_mem_limit': '18446744073709551615', 'enable_cuda_graph': '0', 'gpu_external_free': '0', 'gpu_external_empty_cache': '0', 'arena_extend_strategy': 'kNextPowerOfTwo', 'cudnn_conv_algo_search': 'EXHAUSTIVE', 'do_copy_in_default_stream': '1', 'cudnn_conv_use_max_workspace': '1', 'tunable_op_enable': '0', 'tunable_op_tuning_enable': '0', 'tunable_op_max_tuning_duration_ms': '0', 'enable_skip_layer_norm_strict_mode': '0', 'prefer_nhwc': '0', 'use_ep_level_unified_stream': '0', 'use_tf32': '1', 'sdpa_kernel': '0', 'fuse_conv_bias': '0'}, 'CPUExecutionProvider': {}}\n",
      "find model: C:\\Users\\user/.insightface\\models\\buffalo_l\\1k3d68.onnx landmark_3d_68 ['None', 3, 192, 192] 0.0 1.0\n",
      "Applied providers: ['CUDAExecutionProvider', 'CPUExecutionProvider'], with options: {'CUDAExecutionProvider': {'device_id': '0', 'has_user_compute_stream': '0', 'cudnn_conv1d_pad_to_nc1d': '0', 'user_compute_stream': '0', 'gpu_external_alloc': '0', 'gpu_mem_limit': '18446744073709551615', 'enable_cuda_graph': '0', 'gpu_external_free': '0', 'gpu_external_empty_cache': '0', 'arena_extend_strategy': 'kNextPowerOfTwo', 'cudnn_conv_algo_search': 'EXHAUSTIVE', 'do_copy_in_default_stream': '1', 'cudnn_conv_use_max_workspace': '1', 'tunable_op_enable': '0', 'tunable_op_tuning_enable': '0', 'tunable_op_max_tuning_duration_ms': '0', 'enable_skip_layer_norm_strict_mode': '0', 'prefer_nhwc': '0', 'use_ep_level_unified_stream': '0', 'use_tf32': '1', 'sdpa_kernel': '0', 'fuse_conv_bias': '0'}, 'CPUExecutionProvider': {}}\n",
      "find model: C:\\Users\\user/.insightface\\models\\buffalo_l\\2d106det.onnx landmark_2d_106 ['None', 3, 192, 192] 0.0 1.0\n",
      "Applied providers: ['CUDAExecutionProvider', 'CPUExecutionProvider'], with options: {'CUDAExecutionProvider': {'device_id': '0', 'has_user_compute_stream': '0', 'cudnn_conv1d_pad_to_nc1d': '0', 'user_compute_stream': '0', 'gpu_external_alloc': '0', 'gpu_mem_limit': '18446744073709551615', 'enable_cuda_graph': '0', 'gpu_external_free': '0', 'gpu_external_empty_cache': '0', 'arena_extend_strategy': 'kNextPowerOfTwo', 'cudnn_conv_algo_search': 'EXHAUSTIVE', 'do_copy_in_default_stream': '1', 'cudnn_conv_use_max_workspace': '1', 'tunable_op_enable': '0', 'tunable_op_tuning_enable': '0', 'tunable_op_max_tuning_duration_ms': '0', 'enable_skip_layer_norm_strict_mode': '0', 'prefer_nhwc': '0', 'use_ep_level_unified_stream': '0', 'use_tf32': '1', 'sdpa_kernel': '0', 'fuse_conv_bias': '0'}, 'CPUExecutionProvider': {}}\n",
      "find model: C:\\Users\\user/.insightface\\models\\buffalo_l\\det_10g.onnx detection [1, 3, '?', '?'] 127.5 128.0\n",
      "Applied providers: ['CUDAExecutionProvider', 'CPUExecutionProvider'], with options: {'CUDAExecutionProvider': {'device_id': '0', 'has_user_compute_stream': '0', 'cudnn_conv1d_pad_to_nc1d': '0', 'user_compute_stream': '0', 'gpu_external_alloc': '0', 'gpu_mem_limit': '18446744073709551615', 'enable_cuda_graph': '0', 'gpu_external_free': '0', 'gpu_external_empty_cache': '0', 'arena_extend_strategy': 'kNextPowerOfTwo', 'cudnn_conv_algo_search': 'EXHAUSTIVE', 'do_copy_in_default_stream': '1', 'cudnn_conv_use_max_workspace': '1', 'tunable_op_enable': '0', 'tunable_op_tuning_enable': '0', 'tunable_op_max_tuning_duration_ms': '0', 'enable_skip_layer_norm_strict_mode': '0', 'prefer_nhwc': '0', 'use_ep_level_unified_stream': '0', 'use_tf32': '1', 'sdpa_kernel': '0', 'fuse_conv_bias': '0'}, 'CPUExecutionProvider': {}}\n",
      "find model: C:\\Users\\user/.insightface\\models\\buffalo_l\\genderage.onnx genderage ['None', 3, 96, 96] 0.0 1.0\n",
      "Applied providers: ['CUDAExecutionProvider', 'CPUExecutionProvider'], with options: {'CUDAExecutionProvider': {'device_id': '0', 'has_user_compute_stream': '0', 'cudnn_conv1d_pad_to_nc1d': '0', 'user_compute_stream': '0', 'gpu_external_alloc': '0', 'gpu_mem_limit': '18446744073709551615', 'enable_cuda_graph': '0', 'gpu_external_free': '0', 'gpu_external_empty_cache': '0', 'arena_extend_strategy': 'kNextPowerOfTwo', 'cudnn_conv_algo_search': 'EXHAUSTIVE', 'do_copy_in_default_stream': '1', 'cudnn_conv_use_max_workspace': '1', 'tunable_op_enable': '0', 'tunable_op_tuning_enable': '0', 'tunable_op_max_tuning_duration_ms': '0', 'enable_skip_layer_norm_strict_mode': '0', 'prefer_nhwc': '0', 'use_ep_level_unified_stream': '0', 'use_tf32': '1', 'sdpa_kernel': '0', 'fuse_conv_bias': '0'}, 'CPUExecutionProvider': {}}\n",
      "find model: C:\\Users\\user/.insightface\\models\\buffalo_l\\w600k_r50.onnx recognition ['None', 3, 112, 112] 127.5 127.5\n",
      "set det-size: (640, 640)\n",
      "Applied providers: ['CUDAExecutionProvider', 'CPUExecutionProvider'], with options: {'CUDAExecutionProvider': {'device_id': '0', 'has_user_compute_stream': '0', 'cudnn_conv1d_pad_to_nc1d': '0', 'user_compute_stream': '0', 'gpu_external_alloc': '0', 'gpu_mem_limit': '18446744073709551615', 'enable_cuda_graph': '0', 'gpu_external_free': '0', 'gpu_external_empty_cache': '0', 'arena_extend_strategy': 'kNextPowerOfTwo', 'cudnn_conv_algo_search': 'EXHAUSTIVE', 'do_copy_in_default_stream': '1', 'cudnn_conv_use_max_workspace': '1', 'tunable_op_enable': '0', 'tunable_op_tuning_enable': '0', 'tunable_op_max_tuning_duration_ms': '0', 'enable_skip_layer_norm_strict_mode': '0', 'prefer_nhwc': '0', 'use_ep_level_unified_stream': '0', 'use_tf32': '1', 'sdpa_kernel': '0', 'fuse_conv_bias': '0'}, 'CPUExecutionProvider': {}}\n"
     ]
    }
   ],
   "source": [
    "import os\n",
    "from get_embedding import get_face_embedding\n",
    "\n",
    "def ingest_known_faces(dataset_path):\n",
    "    print(f\"Starting ingestion from: {dataset_path}\")\n",
    "    known_embeddings = []\n",
    "    known_metadatas = []\n",
    "    known_ids = []\n",
    "    image_counter = 0\n",
    "\n",
    "    for person_name in os.listdir(dataset_path):\n",
    "        person_dir = os.path.join(dataset_path, person_name)\n",
    "        if os.path.isdir(person_dir):\n",
    "            for image_name in os.listdir(person_dir):\n",
    "                image_path = os.path.join(person_dir, image_name)\n",
    "                if image_path.lower().endswith(('.png', '.jpg', '.jpeg')):\n",
    "                    print(f\"Processing {image_path} for {person_name}...\")\n",
    "                    embedding = get_face_embedding(image_path)\n",
    "                    if embedding is not None:\n",
    "                        known_embeddings.append(embedding)\n",
    "                        # Metadata can store useful info like the person's name, image source\n",
    "                        known_metadatas.append({\"person_name\": person_name, \"source_image\": image_name})\n",
    "                        # IDs must be unique strings\n",
    "                        known_ids.append(f\"{person_name}_{image_name}_{image_counter}\")\n",
    "                        image_counter += 1\n",
    "                    else:\n",
    "                        print(f\"Skipping {image_path} - no embedding generated.\")\n",
    "    \n",
    "    if known_embeddings:\n",
    "        print(f\"Adding {len(known_embeddings)} embeddings to the collection...\")\n",
    "        try:\n",
    "            collection.add(\n",
    "                embeddings=known_embeddings,\n",
    "                metadatas=known_metadatas,\n",
    "                ids=known_ids\n",
    "            )\n",
    "            print(f\"Successfully added {len(known_embeddings)} embeddings to ChromaDB.\")\n",
    "        except Exception as e:\n",
    "            print(f\"Error adding embeddings to Chroma: {e}\")\n",
    "            # You might encounter errors if IDs are not unique or data format is wrong\n",
    "    else:\n",
    "        print(\"No embeddings were generated to add to the collection.\")\n",
    "\n"
   ]
  },
  {
   "cell_type": "code",
   "execution_count": 3,
   "id": "cf4497a6",
   "metadata": {},
   "outputs": [
    {
     "name": "stdout",
     "output_type": "stream",
     "text": [
      "Collection is empty. Ingesting faces...\n",
      "Starting ingestion from: ./database\n",
      "Processing ./database\\Anh\\Anh_1.jpg for Anh...\n",
      "Processing ./database\\Anh\\Anh_2.jpg for Anh...\n",
      "Processing ./database\\Anh\\Anh_3.jpg for Anh...\n",
      "Processing ./database\\Dr.Lee\\Lee1.jpg for Dr.Lee...\n",
      "Processing ./database\\Dr.Lee\\Lee_2.jpg for Dr.Lee...\n",
      "Processing ./database\\Dr.Lee\\Lee_3.jpg for Dr.Lee...\n",
      "Processing ./database\\GwangHyun\\GH_1.jpg for GwangHyun...\n",
      "Processing ./database\\GwangHyun\\GH_2.jpg for GwangHyun...\n",
      "Processing ./database\\GwangHyun\\GH_3.jpg for GwangHyun...\n",
      "Processing ./database\\Han\\Han.jpg for Han...\n",
      "Processing ./database\\Han\\Han3.jpg for Han...\n",
      "No face detected in ./database\\Han\\Han3.jpg\n",
      "Skipping ./database\\Han\\Han3.jpg - no embedding generated.\n",
      "Processing ./database\\Han\\Han_2.jpg for Han...\n",
      "Processing ./database\\Jin\\Jin.jpg for Jin...\n",
      "Processing ./database\\Jin\\Jin_1.jpg for Jin...\n",
      "Processing ./database\\Jin\\Jin_2.jpg for Jin...\n",
      "Processing ./database\\Professor\\Professor_1.jpg for Professor...\n",
      "Processing ./database\\Professor\\Professor_2.jpg for Professor...\n",
      "Processing ./database\\Professor\\Professor_3.jpg for Professor...\n",
      "Processing ./database\\Vu\\Vu_1.jpg for Vu...\n",
      "Processing ./database\\Vu\\Vu_2.jpg for Vu...\n",
      "Adding 19 embeddings to the collection...\n",
      "Successfully added 19 embeddings to ChromaDB.\n"
     ]
    }
   ],
   "source": [
    "# --- Example Usage: Ingest faces from your 'dataset' directory ---\n",
    "DATASET_ROOT = \"./database\" # Change this to your actual dataset path\n",
    "\n",
    "# Run ingestion (only run this once, or manage ID conflicts if re-running)\n",
    "# To avoid issues on re-runs with existing IDs, you can either:\n",
    "# 1. Delete the DB: `client.delete_collection(name=COLLECTION_NAME)` then recreate\n",
    "# 2. Use `collection.upsert()` instead of `collection.add()` if you want to update existing IDs\n",
    "#    or add new ones. `upsert` requires IDs to be present.\n",
    "# For simplicity, we assume a fresh run or that new images will have new unique IDs.\n",
    "\n",
    "# Check if collection is empty before ingesting\n",
    "if collection.count() == 0:\n",
    "    print(\"Collection is empty. Ingesting faces...\")\n",
    "    ingest_known_faces(DATASET_ROOT)\n",
    "else:\n",
    "    print(f\"Collection already contains {collection.count()} embeddings. Skipping ingestion.\")\n",
    "    print(\"If you want to re-ingest, clear the './chroma_db' directory or delete the collection.\")"
   ]
  },
  {
   "cell_type": "code",
   "execution_count": null,
   "id": "ca22a33a",
   "metadata": {},
   "outputs": [
    {
     "name": "stdout",
     "output_type": "stream",
     "text": [
      "\n",
      "Searching for faces similar to: query\\Jin_2.jpg\n",
      "\n",
      "--- Search Results ---\n",
      "  Candidate 1: ID: Jin_Jin_2.jpg_13, Person: Jin (from Jin_2.jpg)\n",
      "    Cosine Distance: 0.2658 (Similarity: 0.7342)\n",
      "    MATCH FOUND! (Similarity 0.7342 >= Threshold 0.5000)\n",
      "  Candidate 2: ID: Jin_Jin.jpg_11, Person: Jin (from Jin.jpg)\n",
      "    Cosine Distance: 0.2815 (Similarity: 0.7185)\n",
      "    MATCH FOUND! (Similarity 0.7185 >= Threshold 0.5000)\n",
      "  Candidate 3: ID: Jin_Jin_1.jpg_12, Person: Jin (from Jin_1.jpg)\n",
      "    Cosine Distance: 0.2948 (Similarity: 0.7052)\n",
      "    MATCH FOUND! (Similarity 0.7052 >= Threshold 0.5000)\n"
     ]
    }
   ],
   "source": [
    "from search import search_face\n",
    "\n",
    "query_image_file = \"query\\June_out.jpg\" # CHANGE THIS to an actual image path\n",
    "\n",
    "if os.path.exists(query_image_file):\n",
    "    search_face(collection, query_image_file, top_n=3, threshold=0.5)\n",
    "else:\n",
    "    print(f\"\\nQuery image {query_image_file} not found. Skipping search demonstration.\")\n",
    "    print(\"Please create it or update the path to an existing image for search.\")"
   ]
  }
 ],
 "metadata": {
  "kernelspec": {
   "display_name": ".venv-win",
   "language": "python",
   "name": "python3"
  },
  "language_info": {
   "codemirror_mode": {
    "name": "ipython",
    "version": 3
   },
   "file_extension": ".py",
   "mimetype": "text/x-python",
   "name": "python",
   "nbconvert_exporter": "python",
   "pygments_lexer": "ipython3",
   "version": "3.11.7"
  }
 },
 "nbformat": 4,
 "nbformat_minor": 5
}
