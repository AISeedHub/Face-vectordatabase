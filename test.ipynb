{
 "cells": [
  {
   "cell_type": "code",
   "execution_count": null,
   "id": "48d7708d",
   "metadata": {},
   "outputs": [],
   "source": [
    "import cv2\n",
    "import numpy as np\n",
    "from insightface.app import FaceAnalysis\n",
    "\n",
    "\n",
    "app = FaceAnalysis(providers=['CUDAExecutionProvider', 'CPUExecutionProvider'])\n",
    "app.prepare(ctx_id=0, det_size=(640, 640))\n",
    "img = cv2.imread(\"test.jpg\")\n",
    "faces = app.get(img)\n",
    "rimg = app.draw_on(img, faces)\n",
    "cv2.imwrite(\"./t1_output.jpg\", rimg)"
   ]
  },
  {
   "cell_type": "markdown",
   "id": "7027b91c",
   "metadata": {},
   "source": [
    "# Calculate the face embedding"
   ]
  },
  {
   "cell_type": "code",
   "execution_count": null,
   "id": "b538cf9a",
   "metadata": {},
   "outputs": [],
   "source": [
    "import cv2\n",
    "\n",
    "# Ex\n",
    "import cv2\n",
    "from insightface.app import FaceAnalysis\n",
    "\n",
    "# Initialize the FaceAnalysis app\n",
    "app = FaceAnalysis(providers=['CUDAExecutionProvider', 'CPUExecutionProvider'])\n",
    "app.prepare(ctx_id=0, det_size=(640, 640))\n",
    "\n",
    "# Load the image\n",
    "img = cv2.imread(\"test.jpg\")\n",
    "\n",
    "# Detect faces in the image\n",
    "faces = app.get(img)\n",
    "\n",
    "# Loop through detected faces and calculate embeddings\n",
    "for i, face in enumerate(faces):\n",
    "    print(f\"Face {i+1}:\")\n",
    "    print(\"Bounding Box:\", face.bbox)\n",
    "    print(\"Embedding:\", face.embedding)  # Face embedding vector\n"
   ]
  },
  {
   "cell_type": "code",
   "execution_count": null,
   "id": "96f6a0c8",
   "metadata": {},
   "outputs": [],
   "source": [
    "import cv2\n",
    "import numpy as np\n",
    "from insightface.model_zoo import model_zoo\n",
    "\n",
    "# Load the face recognition model\n",
    "model = model_zoo.get_model('buffalo_l')  # You can choose other models if needed\n",
    "model.prepare(ctx_id=0)  # Use GPU (ctx_id=0) or CPU (ctx_id=-1)\n",
    "\n",
    "# Load the image\n",
    "img = cv2.imread(\"test.jpg\")\n",
    "\n",
    "# Preprocess the image (resize and normalize)\n",
    "# Assuming you already have the face bounding box (e.g., from a face detector)\n",
    "bbox = [50, 50, 200, 200]  # Example bounding box [x1, y1, x2, y2]\n",
    "face = img[int(bbox[1]):int(bbox[3]), int(bbox[0]):int(bbox[2])]  # Crop the face\n",
    "face = cv2.resize(face, (112, 112))  # Resize to 112x112 as required by the model\n",
    "face = cv2.cvtColor(face, cv2.COLOR_BGR2RGB)  # Convert to RGB\n",
    "face = np.transpose(face, (2, 0, 1))  # Change to CHW format\n",
    "face = np.expand_dims(face, axis=0).astype(np.float32) / 255.0  # Normalize to [0, 1]\n",
    "\n",
    "# Get the face embedding\n",
    "embedding = model.forward(face)\n",
    "\n",
    "# Print the embedding\n",
    "print(\"Face Embedding:\", embedding.shape)"
   ]
  },
  {
   "cell_type": "markdown",
   "id": "12232454",
   "metadata": {},
   "source": [
    "# Test chormadb vector database"
   ]
  },
  {
   "cell_type": "code",
   "execution_count": null,
   "id": "a566d776",
   "metadata": {},
   "outputs": [
    {
     "name": "stdout",
     "output_type": "stream",
     "text": [
      "Creating collection 'face_embeddings'...\n",
      "Collection 'face_embeddings' created.\n"
     ]
    }
   ],
   "source": [
    "from collections import collection"
   ]
  },
  {
   "cell_type": "code",
   "execution_count": null,
   "id": "e383a060",
   "metadata": {},
   "outputs": [],
   "source": [
    "import os\n",
    "from get_embedding import get_face_embedding, get_gender_and_age\n",
    "\n",
    "def ingest_known_faces(dataset_path):\n",
    "    print(f\"Starting ingestion from: {dataset_path}\")\n",
    "    known_embeddings = []\n",
    "    known_metadatas = []\n",
    "    known_ids = []\n",
    "    image_counter = 0\n",
    "\n",
    "    for person_name in os.listdir(dataset_path):\n",
    "        person_dir = os.path.join(dataset_path, person_name)\n",
    "        if os.path.isdir(person_dir):\n",
    "            for image_name in os.listdir(person_dir):\n",
    "                image_path = os.path.join(person_dir, image_name)\n",
    "                if image_path.lower().endswith(('.png', '.jpg', '.jpeg')):\n",
    "                    print(f\"Processing {image_path} for {person_name}...\")\n",
    "                    embedding = get_face_embedding(image_path)\n",
    "                    if embedding is not None:\n",
    "                        known_embeddings.append(embedding)\n",
    "                        # Metadata can store useful info like the person's name, image source\n",
    "                        known_metadatas.append({\"person_name\": person_name, \"source_image\": image_name})\n",
    "                        # IDs must be unique strings\n",
    "                        known_ids.append(f\"{person_name}_{image_name}_{image_counter}\")\n",
    "                        image_counter += 1\n",
    "                    else:\n",
    "                        print(f\"Skipping {image_path} - no embedding generated.\")\n",
    "    \n",
    "    if known_embeddings:\n",
    "        print(f\"Adding {len(known_embeddings)} embeddings to the collection...\")\n",
    "        try:\n",
    "            collection.add(\n",
    "                embeddings=known_embeddings,\n",
    "                metadatas=known_metadatas,\n",
    "                ids=known_ids\n",
    "            )\n",
    "            print(f\"Successfully added {len(known_embeddings)} embeddings to ChromaDB.\")\n",
    "        except Exception as e:\n",
    "            print(f\"Error adding embeddings to Chroma: {e}\")\n",
    "            # You might encounter errors if IDs are not unique or data format is wrong\n",
    "    else:\n",
    "        print(\"No embeddings were generated to add to the collection.\")\n",
    "\n"
   ]
  },
  {
   "cell_type": "code",
   "execution_count": null,
   "id": "a5f13974",
   "metadata": {},
   "outputs": [
    {
     "name": "stderr",
     "output_type": "stream",
     "text": [
      "e:\\AISeed\\Face-vectordatabase\\.venv-win\\Lib\\site-packages\\tqdm\\auto.py:21: TqdmWarning: IProgress not found. Please update jupyter and ipywidgets. See https://ipywidgets.readthedocs.io/en/stable/user_install.html\n",
      "  from .autonotebook import tqdm as notebook_tqdm\n"
     ]
    },
    {
     "name": "stdout",
     "output_type": "stream",
     "text": [
      "Applied providers: ['CUDAExecutionProvider', 'CPUExecutionProvider'], with options: {'CUDAExecutionProvider': {'device_id': '0', 'has_user_compute_stream': '0', 'cudnn_conv1d_pad_to_nc1d': '0', 'user_compute_stream': '0', 'gpu_external_alloc': '0', 'gpu_mem_limit': '18446744073709551615', 'enable_cuda_graph': '0', 'gpu_external_free': '0', 'gpu_external_empty_cache': '0', 'arena_extend_strategy': 'kNextPowerOfTwo', 'cudnn_conv_algo_search': 'EXHAUSTIVE', 'do_copy_in_default_stream': '1', 'cudnn_conv_use_max_workspace': '1', 'tunable_op_enable': '0', 'tunable_op_tuning_enable': '0', 'tunable_op_max_tuning_duration_ms': '0', 'enable_skip_layer_norm_strict_mode': '0', 'prefer_nhwc': '0', 'use_ep_level_unified_stream': '0', 'use_tf32': '1', 'sdpa_kernel': '0', 'fuse_conv_bias': '0'}, 'CPUExecutionProvider': {}}\n",
      "find model: C:\\Users\\user/.insightface\\models\\buffalo_l\\1k3d68.onnx landmark_3d_68 ['None', 3, 192, 192] 0.0 1.0\n",
      "Applied providers: ['CUDAExecutionProvider', 'CPUExecutionProvider'], with options: {'CUDAExecutionProvider': {'device_id': '0', 'has_user_compute_stream': '0', 'cudnn_conv1d_pad_to_nc1d': '0', 'user_compute_stream': '0', 'gpu_external_alloc': '0', 'gpu_mem_limit': '18446744073709551615', 'enable_cuda_graph': '0', 'gpu_external_free': '0', 'gpu_external_empty_cache': '0', 'arena_extend_strategy': 'kNextPowerOfTwo', 'cudnn_conv_algo_search': 'EXHAUSTIVE', 'do_copy_in_default_stream': '1', 'cudnn_conv_use_max_workspace': '1', 'tunable_op_enable': '0', 'tunable_op_tuning_enable': '0', 'tunable_op_max_tuning_duration_ms': '0', 'enable_skip_layer_norm_strict_mode': '0', 'prefer_nhwc': '0', 'use_ep_level_unified_stream': '0', 'use_tf32': '1', 'sdpa_kernel': '0', 'fuse_conv_bias': '0'}, 'CPUExecutionProvider': {}}\n",
      "find model: C:\\Users\\user/.insightface\\models\\buffalo_l\\2d106det.onnx landmark_2d_106 ['None', 3, 192, 192] 0.0 1.0\n",
      "Applied providers: ['CUDAExecutionProvider', 'CPUExecutionProvider'], with options: {'CUDAExecutionProvider': {'device_id': '0', 'has_user_compute_stream': '0', 'cudnn_conv1d_pad_to_nc1d': '0', 'user_compute_stream': '0', 'gpu_external_alloc': '0', 'gpu_mem_limit': '18446744073709551615', 'enable_cuda_graph': '0', 'gpu_external_free': '0', 'gpu_external_empty_cache': '0', 'arena_extend_strategy': 'kNextPowerOfTwo', 'cudnn_conv_algo_search': 'EXHAUSTIVE', 'do_copy_in_default_stream': '1', 'cudnn_conv_use_max_workspace': '1', 'tunable_op_enable': '0', 'tunable_op_tuning_enable': '0', 'tunable_op_max_tuning_duration_ms': '0', 'enable_skip_layer_norm_strict_mode': '0', 'prefer_nhwc': '0', 'use_ep_level_unified_stream': '0', 'use_tf32': '1', 'sdpa_kernel': '0', 'fuse_conv_bias': '0'}, 'CPUExecutionProvider': {}}\n",
      "find model: C:\\Users\\user/.insightface\\models\\buffalo_l\\det_10g.onnx detection [1, 3, '?', '?'] 127.5 128.0\n",
      "Applied providers: ['CUDAExecutionProvider', 'CPUExecutionProvider'], with options: {'CUDAExecutionProvider': {'device_id': '0', 'has_user_compute_stream': '0', 'cudnn_conv1d_pad_to_nc1d': '0', 'user_compute_stream': '0', 'gpu_external_alloc': '0', 'gpu_mem_limit': '18446744073709551615', 'enable_cuda_graph': '0', 'gpu_external_free': '0', 'gpu_external_empty_cache': '0', 'arena_extend_strategy': 'kNextPowerOfTwo', 'cudnn_conv_algo_search': 'EXHAUSTIVE', 'do_copy_in_default_stream': '1', 'cudnn_conv_use_max_workspace': '1', 'tunable_op_enable': '0', 'tunable_op_tuning_enable': '0', 'tunable_op_max_tuning_duration_ms': '0', 'enable_skip_layer_norm_strict_mode': '0', 'prefer_nhwc': '0', 'use_ep_level_unified_stream': '0', 'use_tf32': '1', 'sdpa_kernel': '0', 'fuse_conv_bias': '0'}, 'CPUExecutionProvider': {}}\n",
      "find model: C:\\Users\\user/.insightface\\models\\buffalo_l\\genderage.onnx genderage ['None', 3, 96, 96] 0.0 1.0\n",
      "Applied providers: ['CUDAExecutionProvider', 'CPUExecutionProvider'], with options: {'CUDAExecutionProvider': {'device_id': '0', 'has_user_compute_stream': '0', 'cudnn_conv1d_pad_to_nc1d': '0', 'user_compute_stream': '0', 'gpu_external_alloc': '0', 'gpu_mem_limit': '18446744073709551615', 'enable_cuda_graph': '0', 'gpu_external_free': '0', 'gpu_external_empty_cache': '0', 'arena_extend_strategy': 'kNextPowerOfTwo', 'cudnn_conv_algo_search': 'EXHAUSTIVE', 'do_copy_in_default_stream': '1', 'cudnn_conv_use_max_workspace': '1', 'tunable_op_enable': '0', 'tunable_op_tuning_enable': '0', 'tunable_op_max_tuning_duration_ms': '0', 'enable_skip_layer_norm_strict_mode': '0', 'prefer_nhwc': '0', 'use_ep_level_unified_stream': '0', 'use_tf32': '1', 'sdpa_kernel': '0', 'fuse_conv_bias': '0'}, 'CPUExecutionProvider': {}}\n",
      "find model: C:\\Users\\user/.insightface\\models\\buffalo_l\\w600k_r50.onnx recognition ['None', 3, 112, 112] 127.5 127.5\n",
      "set det-size: (640, 640)\n",
      "Applied providers: ['CUDAExecutionProvider', 'CPUExecutionProvider'], with options: {'CUDAExecutionProvider': {'device_id': '0', 'has_user_compute_stream': '0', 'cudnn_conv1d_pad_to_nc1d': '0', 'user_compute_stream': '0', 'gpu_external_alloc': '0', 'gpu_mem_limit': '18446744073709551615', 'enable_cuda_graph': '0', 'gpu_external_free': '0', 'gpu_external_empty_cache': '0', 'arena_extend_strategy': 'kNextPowerOfTwo', 'cudnn_conv_algo_search': 'EXHAUSTIVE', 'do_copy_in_default_stream': '1', 'cudnn_conv_use_max_workspace': '1', 'tunable_op_enable': '0', 'tunable_op_tuning_enable': '0', 'tunable_op_max_tuning_duration_ms': '0', 'enable_skip_layer_norm_strict_mode': '0', 'prefer_nhwc': '0', 'use_ep_level_unified_stream': '0', 'use_tf32': '1', 'sdpa_kernel': '0', 'fuse_conv_bias': '0'}, 'CPUExecutionProvider': {}}\n"
     ]
    }
   ],
   "source": [
    "import os\n",
    "from get_embedding import get_face_embedding, get_gender_and_age\n",
    "\n",
    "def ingest_known_faces(dataset_path):\n",
    "    \"\"\"\n",
    "    Ingest known faces from a dataset directory into the database.\n",
    "    Adds embeddings, metadata (including gender and age), and unique IDs.\n",
    "    \"\"\"\n",
    "    print(f\"Starting ingestion from: {dataset_path}\")\n",
    "    known_embeddings = []\n",
    "    known_metadatas = []\n",
    "    known_ids = []\n",
    "    image_counter = 0\n",
    "\n",
    "    for person_name in os.listdir(dataset_path):\n",
    "        person_dir = os.path.join(dataset_path, person_name)\n",
    "        if os.path.isdir(person_dir):\n",
    "            for image_name in os.listdir(person_dir):\n",
    "                image_path = os.path.join(person_dir, image_name)\n",
    "                if image_path.lower().endswith(('.png', '.jpg', '.jpeg')):\n",
    "                    print(f\"Processing {image_path} for {person_name}...\")\n",
    "                    \n",
    "                    # Get face embedding\n",
    "                    embedding = get_face_embedding(image_path)\n",
    "                    \n",
    "                    # Get gender and age\n",
    "                    gender_age_info = get_gender_and_age(image_path)\n",
    "\n",
    "                    if embedding is not None and gender_age_info is not None:\n",
    "                        known_embeddings.append(embedding)\n",
    "                        \n",
    "                        # Add metadata including person name, source image, gender, and age\n",
    "                        metadata = {\n",
    "                            \"person_name\": person_name,\n",
    "                            \"source_image\": image_name,\n",
    "                            \"gender\": \"male\" if gender_age_info.get(\"gender\") == 1 else \"female\",\n",
    "                            \"age\": str(gender_age_info.get(\"age\"))\n",
    "                        }\n",
    "                        known_metadatas.append(metadata)\n",
    "                        \n",
    "                        # Generate a unique ID for the face\n",
    "                        known_ids.append(f\"{person_name}_{image_name}_{image_counter}\")\n",
    "                        image_counter += 1\n",
    "                    else:\n",
    "                        print(f\"Skipping {image_path} - no embedding or gender/age info generated.\")\n",
    "    \n",
    "    if known_embeddings:\n",
    "        print(f\"Adding {len(known_embeddings)} embeddings to the collection...\")\n",
    "        try:\n",
    "            collection.add(\n",
    "                embeddings=known_embeddings,\n",
    "                metadatas=known_metadatas,\n",
    "                ids=known_ids\n",
    "            )\n",
    "            print(f\"Successfully added {len(known_embeddings)} embeddings to the database.\")\n",
    "        except Exception as e:\n",
    "            print(f\"Error adding embeddings to the database: {e}\")\n",
    "    else:\n",
    "        print(\"No embeddings were generated to add to the collection.\")"
   ]
  },
  {
   "cell_type": "code",
   "execution_count": 3,
   "id": "cf4497a6",
   "metadata": {},
   "outputs": [
    {
     "name": "stdout",
     "output_type": "stream",
     "text": [
      "Collection is empty. Ingesting faces...\n",
      "Starting ingestion from: ./database\n",
      "Processing ./database\\Anh\\Anh_1.jpg for Anh...\n",
      "Metadata: {'person_name': 'Anh', 'source_image': 'Anh_1.jpg', 'gender': 'male', 'age': '40'}\n",
      "Processing ./database\\Anh\\Anh_2.jpg for Anh...\n",
      "Metadata: {'person_name': 'Anh', 'source_image': 'Anh_2.jpg', 'gender': 'male', 'age': '48'}\n",
      "Processing ./database\\Anh\\Anh_3.jpg for Anh...\n",
      "Metadata: {'person_name': 'Anh', 'source_image': 'Anh_3.jpg', 'gender': 'male', 'age': '50'}\n",
      "Processing ./database\\Dr.Lee\\Lee1.jpg for Dr.Lee...\n",
      "Metadata: {'person_name': 'Dr.Lee', 'source_image': 'Lee1.jpg', 'gender': 'male', 'age': '45'}\n",
      "Processing ./database\\Dr.Lee\\Lee_2.jpg for Dr.Lee...\n",
      "Metadata: {'person_name': 'Dr.Lee', 'source_image': 'Lee_2.jpg', 'gender': 'male', 'age': '57'}\n",
      "Processing ./database\\Dr.Lee\\Lee_3.jpg for Dr.Lee...\n",
      "Metadata: {'person_name': 'Dr.Lee', 'source_image': 'Lee_3.jpg', 'gender': 'male', 'age': '54'}\n",
      "Processing ./database\\GwangHyun\\GH_1.jpg for GwangHyun...\n",
      "Metadata: {'person_name': 'GwangHyun', 'source_image': 'GH_1.jpg', 'gender': 'male', 'age': '58'}\n",
      "Processing ./database\\GwangHyun\\GH_2.jpg for GwangHyun...\n",
      "Metadata: {'person_name': 'GwangHyun', 'source_image': 'GH_2.jpg', 'gender': 'female', 'age': '60'}\n",
      "Processing ./database\\GwangHyun\\GH_3.jpg for GwangHyun...\n",
      "Metadata: {'person_name': 'GwangHyun', 'source_image': 'GH_3.jpg', 'gender': 'male', 'age': '68'}\n",
      "Processing ./database\\Han\\Han.jpg for Han...\n",
      "Metadata: {'person_name': 'Han', 'source_image': 'Han.jpg', 'gender': 'female', 'age': '29'}\n",
      "Processing ./database\\Han\\Han3.jpg for Han...\n",
      "No face detected in ./database\\Han\\Han3.jpg\n",
      "No face detected in ./database\\Han\\Han3.jpg\n",
      "Skipping ./database\\Han\\Han3.jpg - no embedding or gender/age info generated.\n",
      "Processing ./database\\Han\\Han_2.jpg for Han...\n",
      "Metadata: {'person_name': 'Han', 'source_image': 'Han_2.jpg', 'gender': 'female', 'age': '43'}\n",
      "Processing ./database\\Jin\\Jin.jpg for Jin...\n",
      "Metadata: {'person_name': 'Jin', 'source_image': 'Jin.jpg', 'gender': 'male', 'age': '68'}\n",
      "Processing ./database\\Jin\\Jin_1.jpg for Jin...\n",
      "Metadata: {'person_name': 'Jin', 'source_image': 'Jin_1.jpg', 'gender': 'male', 'age': '48'}\n",
      "Processing ./database\\Jin\\Jin_2.jpg for Jin...\n",
      "Metadata: {'person_name': 'Jin', 'source_image': 'Jin_2.jpg', 'gender': 'female', 'age': '41'}\n",
      "Processing ./database\\Professor\\Professor_1.jpg for Professor...\n",
      "Metadata: {'person_name': 'Professor', 'source_image': 'Professor_1.jpg', 'gender': 'male', 'age': '68'}\n",
      "Processing ./database\\Professor\\Professor_2.jpg for Professor...\n",
      "Metadata: {'person_name': 'Professor', 'source_image': 'Professor_2.jpg', 'gender': 'male', 'age': '56'}\n",
      "Processing ./database\\Professor\\Professor_3.jpg for Professor...\n",
      "Metadata: {'person_name': 'Professor', 'source_image': 'Professor_3.jpg', 'gender': 'male', 'age': '60'}\n",
      "Processing ./database\\Vu\\Vu_1.jpg for Vu...\n",
      "Metadata: {'person_name': 'Vu', 'source_image': 'Vu_1.jpg', 'gender': 'male', 'age': '29'}\n",
      "Processing ./database\\Vu\\Vu_2.jpg for Vu...\n",
      "Metadata: {'person_name': 'Vu', 'source_image': 'Vu_2.jpg', 'gender': 'male', 'age': '27'}\n",
      "Adding 19 embeddings to the collection...\n",
      "Successfully added 19 embeddings to the database.\n"
     ]
    }
   ],
   "source": [
    "# --- Example Usage: Ingest faces from your 'dataset' directory ---\n",
    "DATASET_ROOT = \"./database\" # Change this to your actual dataset path\n",
    "\n",
    "# Run ingestion (only run this once, or manage ID conflicts if re-running)\n",
    "# To avoid issues on re-runs with existing IDs, you can either:\n",
    "# 1. Delete the DB: `client.delete_collection(name=COLLECTION_NAME)` then recreate\n",
    "# 2. Use `collection.upsert()` instead of `collection.add()` if you want to update existing IDs\n",
    "#    or add new ones. `upsert` requires IDs to be present.\n",
    "# For simplicity, we assume a fresh run or that new images will have new unique IDs.\n",
    "\n",
    "# Check if collection is empty before ingesting\n",
    "if collection.count() == 0:\n",
    "    print(\"Collection is empty. Ingesting faces...\")\n",
    "    ingest_known_faces(DATASET_ROOT)\n",
    "else:\n",
    "    print(f\"Collection already contains {collection.count()} embeddings. Skipping ingestion.\")\n",
    "    print(\"If you want to re-ingest, clear the './chroma_db' directory or delete the collection.\")"
   ]
  },
  {
   "cell_type": "code",
   "execution_count": null,
   "id": "ca22a33a",
   "metadata": {},
   "outputs": [
    {
     "name": "stdout",
     "output_type": "stream",
     "text": [
      "\n",
      "Searching for faces similar to: query\\Anh_1.jpg\n",
      "\n",
      "--- Search Results ---\n",
      "  Candidate 1: ID: Anh_Anh_2.jpg_1, Person: Anh (from Anh_2.jpg)\n",
      "    Cosine Distance: 0.3004 (Similarity: 0.6996)\n",
      "    MATCH FOUND! (Similarity 0.6996 >= Threshold 0.5000)\n",
      "  Candidate 2: ID: Anh_Anh_1.jpg_0, Person: Anh (from Anh_1.jpg)\n",
      "    Cosine Distance: 0.3460 (Similarity: 0.6540)\n",
      "    MATCH FOUND! (Similarity 0.6540 >= Threshold 0.5000)\n",
      "  Candidate 3: ID: Anh_Anh_3.jpg_2, Person: Anh (from Anh_3.jpg)\n",
      "    Cosine Distance: 0.3507 (Similarity: 0.6493)\n",
      "    MATCH FOUND! (Similarity 0.6493 >= Threshold 0.5000)\n"
     ]
    }
   ],
   "source": [
    "from search_face import search_face\n",
    "import os\n",
    "from collections import collection\n",
    "\n",
    "query_image_file = \"query\\Anh_1.jpg\" # CHANGE THIS to an actual image path\n",
    "\n",
    "if os.path.exists(query_image_file):\n",
    "    search_face(collection, query_image_file, top_n=3, threshold=0.5)\n",
    "else:\n",
    "    print(f\"\\nQuery image {query_image_file} not found. Skipping search demonstration.\")\n",
    "    print(\"Please create it or update the path to an existing image for search.\")"
   ]
  },
  {
   "cell_type": "code",
   "execution_count": null,
   "id": "d95cbfff",
   "metadata": {},
   "outputs": [
    {
     "name": "stdout",
     "output_type": "stream",
     "text": [
      "(19, 512)\n"
     ]
    }
   ],
   "source": [
    "# inspect the collection\n",
    "from collections import collection\n",
    "\n",
    "collection_info = collection.get(include=['embeddings'])\n",
    "\n",
    "# query the collection\n",
    "print(collection_info['embeddings'].shape)\n"
   ]
  },
  {
   "cell_type": "markdown",
   "id": "c6cd0b91",
   "metadata": {},
   "source": [
    "# Test with Weaviate database"
   ]
  },
  {
   "cell_type": "code",
   "execution_count": 38,
   "id": "ae32aaeb",
   "metadata": {},
   "outputs": [
    {
     "name": "stdout",
     "output_type": "stream",
     "text": [
      "Collection 'face_embeddings' loaded.\n"
     ]
    }
   ],
   "source": [
    "from db_collections import init_weaviate_db\n",
    "\n",
    "\n",
    "collection = init_weaviate_db()\n"
   ]
  },
  {
   "cell_type": "code",
   "execution_count": 43,
   "id": "e963347b",
   "metadata": {},
   "outputs": [],
   "source": [
    "# populate the collection\n",
    "\n",
    "import os\n",
    "from get_embedding import get_face_embedding, get_gender_and_age\n",
    "import weaviate as wv\n",
    "\n",
    "def ingest_known_faces(dataset_path):\n",
    "    \"\"\"\n",
    "    Ingest known faces from a dataset directory into the database.\n",
    "    Adds embeddings, metadata (including gender and age), and unique IDs.\n",
    "    \"\"\"\n",
    "    print(f\"Starting ingestion from: {dataset_path}\")\n",
    "    known_embeddings = list()\n",
    "    image_counter = 0\n",
    "\n",
    "    for person_name in os.listdir(dataset_path):\n",
    "        person_dir = os.path.join(dataset_path, person_name)\n",
    "        if os.path.isdir(person_dir):\n",
    "            for image_name in os.listdir(person_dir):\n",
    "                image_path = os.path.join(person_dir, image_name)\n",
    "                if image_path.lower().endswith(('.png', '.jpg', '.jpeg')):\n",
    "                    print(f\"Processing {image_path} for {person_name}...\")\n",
    "                    \n",
    "                    # Get face embedding\n",
    "                    embedding = get_face_embedding(image_path)\n",
    "                    \n",
    "                    # Get gender and age\n",
    "                    gender_age_info = get_gender_and_age(image_path)\n",
    "\n",
    "                    if embedding is not None and gender_age_info is not None:\n",
    "                        \n",
    "                        known_embeddings.append(wv.classes.data.DataObject(\n",
    "                                properties={\n",
    "                                    \"age\": str(gender_age_info.get(\"age\")),\n",
    "                                    \"gender\": \"male\" if gender_age_info.get(\"gender\") == 1 else \"female\",\n",
    "                                    \"person_name\": person_name,\n",
    "                                    \"source_image\": image_name,\n",
    "                                    # \"id\": f\"{person_name}_{image_name}_{image_counter}\" # Generate a unique ID for the face\n",
    "                                },\n",
    "                                vector=embedding,\n",
    "                            ))\n",
    "                        image_counter += 1\n",
    "                    else:\n",
    "                        print(f\"Skipping {image_path} - no embedding or gender/age info generated.\")\n",
    "    \n",
    "    if known_embeddings:\n",
    "        print(f\"Adding {len(known_embeddings)} embeddings to the collection...\")\n",
    "        try:\n",
    "            collection.data.insert_many(known_embeddings)\n",
    "            print(f\"Successfully added {len(known_embeddings)} embeddings to the database.\")\n",
    "        except Exception as e:\n",
    "            print(f\"Error adding embeddings to the database: {e}\")\n",
    "    else:\n",
    "        print(\"No embeddings were generated to add to the collection.\")"
   ]
  },
  {
   "cell_type": "code",
   "execution_count": 44,
   "id": "e38341db",
   "metadata": {},
   "outputs": [
    {
     "name": "stdout",
     "output_type": "stream",
     "text": [
      "Starting ingestion from: ./database\n",
      "Processing ./database\\Anh\\Anh_1.jpg for Anh...\n",
      "Processing ./database\\Anh\\Anh_2.jpg for Anh...\n",
      "Processing ./database\\Anh\\Anh_3.jpg for Anh...\n",
      "Processing ./database\\Dr.Lee\\Lee1.jpg for Dr.Lee...\n",
      "Processing ./database\\Dr.Lee\\Lee_2.jpg for Dr.Lee...\n",
      "Processing ./database\\Dr.Lee\\Lee_3.jpg for Dr.Lee...\n",
      "Processing ./database\\GwangHyun\\GH_1.jpg for GwangHyun...\n",
      "Processing ./database\\GwangHyun\\GH_2.jpg for GwangHyun...\n",
      "Processing ./database\\GwangHyun\\GH_3.jpg for GwangHyun...\n",
      "Processing ./database\\Han\\Han.jpg for Han...\n",
      "Processing ./database\\Han\\Han3.jpg for Han...\n",
      "No face detected in ./database\\Han\\Han3.jpg\n",
      "No face detected in ./database\\Han\\Han3.jpg\n",
      "Skipping ./database\\Han\\Han3.jpg - no embedding or gender/age info generated.\n",
      "Processing ./database\\Han\\Han_2.jpg for Han...\n",
      "Processing ./database\\Jin\\Jin.jpg for Jin...\n",
      "Processing ./database\\Jin\\Jin_1.jpg for Jin...\n",
      "Processing ./database\\Jin\\Jin_2.jpg for Jin...\n",
      "Processing ./database\\Professor\\Professor_1.jpg for Professor...\n",
      "Processing ./database\\Professor\\Professor_2.jpg for Professor...\n",
      "Processing ./database\\Professor\\Professor_3.jpg for Professor...\n",
      "Processing ./database\\Vu\\Vu_1.jpg for Vu...\n",
      "Processing ./database\\Vu\\Vu_2.jpg for Vu...\n",
      "Adding 19 embeddings to the collection...\n",
      "Successfully added 19 embeddings to the database.\n"
     ]
    }
   ],
   "source": [
    "# --- Example Usage: Ingest faces from your 'dataset' directory ---\n",
    "DATASET_ROOT = \"./database\" # Change this to your actual dataset path\n",
    "\n",
    "ingest_known_faces(DATASET_ROOT)"
   ]
  },
  {
   "cell_type": "code",
   "execution_count": 7,
   "id": "33500fb9",
   "metadata": {},
   "outputs": [
    {
     "name": "stdout",
     "output_type": "stream",
     "text": [
      "Collection 'face_embeddings' loaded.\n",
      "\n",
      "Searching for faces similar to: query/GH_1.jpg\n"
     ]
    },
    {
     "name": "stderr",
     "output_type": "stream",
     "text": [
      "C:\\Users\\user\\AppData\\Local\\Temp\\ipykernel_37292\\4212789132.py:5: ResourceWarning: unclosed <socket.socket fd=4884, family=23, type=1, proto=0, laddr=('::1', 51708, 0, 0), raddr=('::1', 8080, 0, 0)>\n",
      "  collection = init_weaviate_db()\n",
      "ResourceWarning: Enable tracemalloc to get the object allocation traceback\n"
     ]
    },
    {
     "name": "stdout",
     "output_type": "stream",
     "text": [
      "{\n",
      "  \"age\": \"68\",\n",
      "  \"person_name\": \"GwangHyun\",\n",
      "  \"source_image\": \"GH_3.jpg\",\n",
      "  \"gender\": \"male\"\n",
      "}\n",
      "    Similarity Score: 0.8653337955474854\n",
      "    MATCH FOUND! (Score 0.8653 >= Threshold 0.5000)\n",
      "{\n",
      "  \"age\": \"60\",\n",
      "  \"person_name\": \"GwangHyun\",\n",
      "  \"source_image\": \"GH_2.jpg\",\n",
      "  \"gender\": \"female\"\n",
      "}\n",
      "    Similarity Score: 0.7918325662612915\n",
      "    MATCH FOUND! (Score 0.7918 >= Threshold 0.5000)\n",
      "{\n",
      "  \"age\": \"58\",\n",
      "  \"person_name\": \"GwangHyun\",\n",
      "  \"source_image\": \"GH_1.jpg\",\n",
      "  \"gender\": \"male\"\n",
      "}\n",
      "    Similarity Score: 0.6602085828781128\n",
      "    MATCH FOUND! (Score 0.6602 >= Threshold 0.5000)\n"
     ]
    }
   ],
   "source": [
    "from search_face import search_face_weaviate\n",
    "import os\n",
    "from db_collections import init_weaviate_db\n",
    "\n",
    "collection = init_weaviate_db()\n",
    "\n",
    "query_image_file = \"query/GH_1.jpg\" # CHANGE THIS to an actual image path\n",
    "\n",
    "if os.path.exists(query_image_file):\n",
    "    search_face_weaviate(collection, query_image_file, top_n=3, threshold=0.5)\n",
    "else:\n",
    "    print(f\"\\nQuery image {query_image_file} not found. Skipping search demonstration.\")\n",
    "    print(\"Please create it or update the path to an existing image for search.\")"
   ]
  }
 ],
 "metadata": {
  "kernelspec": {
   "display_name": ".venv-win",
   "language": "python",
   "name": "python3"
  },
  "language_info": {
   "codemirror_mode": {
    "name": "ipython",
    "version": 3
   },
   "file_extension": ".py",
   "mimetype": "text/x-python",
   "name": "python",
   "nbconvert_exporter": "python",
   "pygments_lexer": "ipython3",
   "version": "3.11.7"
  }
 },
 "nbformat": 4,
 "nbformat_minor": 5
}
