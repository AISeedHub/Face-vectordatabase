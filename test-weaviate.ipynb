{
 "cells": [
  {
   "cell_type": "code",
   "execution_count": 1,
   "id": "44f13fb4",
   "metadata": {},
   "outputs": [
    {
     "name": "stdout",
     "output_type": "stream",
     "text": [
      "True\n"
     ]
    }
   ],
   "source": [
    "import weaviate\n",
    "\n",
    "client = weaviate.connect_to_local()\n",
    "\n",
    "print(client.is_ready())  # Should print: `True`\n",
    "\n",
    "client.close()  # Free up resources"
   ]
  },
  {
   "cell_type": "markdown",
   "id": "075f6756",
   "metadata": {},
   "source": [
    "# MaKe collection"
   ]
  },
  {
   "cell_type": "code",
   "execution_count": 2,
   "id": "3a4a673d",
   "metadata": {},
   "outputs": [
    {
     "name": "stderr",
     "output_type": "stream",
     "text": [
      "e:\\AISeed\\Face-vectordatabase\\.venv-win\\Lib\\site-packages\\weaviate\\collections\\classes\\config.py:1963: PydanticDeprecatedSince211: Accessing the 'model_fields' attribute on the instance is deprecated. Instead, you should access this attribute from the model class. Deprecated in Pydantic V2.11 to be removed in V3.0.\n",
      "  for cls_field in self.model_fields:\n"
     ]
    }
   ],
   "source": [
    "import weaviate\n",
    "from weaviate.classes.config import Configure\n",
    "\n",
    "client = weaviate.connect_to_local()\n",
    "\n",
    "questions = client.collections.create(\n",
    "    name=\"Question\",\n",
    "    vectorizer_config=Configure.Vectorizer.text2vec_ollama(     # Configure the Ollama embedding integration\n",
    "        api_endpoint=\"http://host.docker.internal:11434\",       # Allow Weaviate from within a Docker container to contact your Ollama instance\n",
    "        model=\"nomic-embed-text\",                               # The model to use\n",
    "    ),\n",
    "    generative_config=Configure.Generative.ollama(              # Configure the Ollama generative integration\n",
    "        api_endpoint=\"http://host.docker.internal:11434\",       # Allow Weaviate from within a Docker container to contact your Ollama instance\n",
    "        model=\"llama3.2\",                                       # The model to use\n",
    "    )\n",
    ")\n",
    "\n",
    "client.close()  # Free up resources"
   ]
  },
  {
   "cell_type": "code",
   "execution_count": 4,
   "id": "7eb94ce7",
   "metadata": {},
   "outputs": [],
   "source": [
    "import weaviate\n",
    "import requests, json\n",
    "\n",
    "client = weaviate.connect_to_local()\n",
    "\n",
    "resp = requests.get(\n",
    "    \"https://raw.githubusercontent.com/weaviate-tutorials/quickstart/main/data/jeopardy_tiny.json\"\n",
    ")\n",
    "data = json.loads(resp.text)\n",
    "\n",
    "questions = client.collections.get(\"Question\")\n",
    "\n",
    "with questions.batch.fixed_size(batch_size=200) as batch:\n",
    "    for d in data:\n",
    "        batch.add_object(\n",
    "            {\n",
    "                \"answer\": d[\"Answer\"],\n",
    "                \"question\": d[\"Question\"],\n",
    "                \"category\": d[\"Category\"],\n",
    "            }\n",
    "        )\n",
    "        if batch.number_errors > 10:\n",
    "            print(\"Batch import stopped due to excessive errors.\")\n",
    "            break\n",
    "\n",
    "failed_objects = questions.batch.failed_objects\n",
    "if failed_objects:\n",
    "    print(f\"Number of failed imports: {len(failed_objects)}\")\n",
    "    print(f\"First failed object: {failed_objects[0]}\")\n",
    "\n",
    "client.close()  # Free up resources"
   ]
  },
  {
   "cell_type": "markdown",
   "id": "958460a0",
   "metadata": {},
   "source": [
    "# Query the data"
   ]
  },
  {
   "cell_type": "code",
   "execution_count": 11,
   "id": "d89c563d",
   "metadata": {},
   "outputs": [
    {
     "name": "stdout",
     "output_type": "stream",
     "text": [
      "{\n",
      "  \"answer\": \"Antelope\",\n",
      "  \"question\": \"Weighing around a ton, the eland is the largest species of this animal in Africa\",\n",
      "  \"category\": \"ANIMALS\"\n",
      "}\n",
      "{\n",
      "  \"answer\": \"Elephant\",\n",
      "  \"question\": \"It's the only living mammal in the order Proboseidea\",\n",
      "  \"category\": \"ANIMALS\"\n",
      "}\n",
      "{\n",
      "  \"answer\": \"the nose or snout\",\n",
      "  \"question\": \"The gavial looks very much like a crocodile except for this bodily feature\",\n",
      "  \"category\": \"ANIMALS\"\n",
      "}\n",
      "{\n",
      "  \"answer\": \"species\",\n",
      "  \"question\": \"2000 news: the Gunnison sage grouse isn't just another northern sage grouse, but a new one of this classification\",\n",
      "  \"category\": \"SCIENCE\"\n",
      "}\n",
      "{\n",
      "  \"answer\": \"the diamondback rattler\",\n",
      "  \"question\": \"Heaviest of all poisonous snakes is this North American rattlesnake\",\n",
      "  \"category\": \"ANIMALS\"\n",
      "}\n"
     ]
    }
   ],
   "source": [
    "import weaviate\n",
    "import json\n",
    "\n",
    "client = weaviate.connect_to_local()\n",
    "\n",
    "questions = client.collections.get(\"Question\")\n",
    "\n",
    "response = questions.query.near_text(\n",
    "    query=\"animal\",\n",
    "    limit=5\n",
    ")\n",
    "\n",
    "for obj in response.objects:\n",
    "    print(json.dumps(obj.properties, indent=2))\n",
    "\n",
    "client.close()  # Free up resources"
   ]
  },
  {
   "cell_type": "code",
   "execution_count": 12,
   "id": "ca760ebd",
   "metadata": {},
   "outputs": [
    {
     "name": "stdout",
     "output_type": "stream",
     "text": [
      "\"Fun facts! 🐾 Did you know: Antelopes can weigh up to 1 ton, Elephants are the only living mammals in the Proboseidea order 🦏, Gavials have distinctive noses, New species of sage grouse were discovered in 2000 🌿, and the Diamondback Rattlesnake is the heaviest poisonous snake! 🐍💪 #WildlifeFacts\"\n"
     ]
    }
   ],
   "source": [
    "import weaviate\n",
    "\n",
    "client = weaviate.connect_to_local()\n",
    "\n",
    "questions = client.collections.get(\"Question\")\n",
    "\n",
    "response = questions.generate.near_text(\n",
    "    query=\"animal\",\n",
    "    limit=5,\n",
    "    grouped_task=\"Write a tweet with emojis about these facts.\"\n",
    ")\n",
    "\n",
    "print(response.generated)  # Inspect the generated text\n",
    "\n",
    "client.close()  # Free up resources"
   ]
  }
 ],
 "metadata": {
  "kernelspec": {
   "display_name": ".venv-win",
   "language": "python",
   "name": "python3"
  },
  "language_info": {
   "codemirror_mode": {
    "name": "ipython",
    "version": 3
   },
   "file_extension": ".py",
   "mimetype": "text/x-python",
   "name": "python",
   "nbconvert_exporter": "python",
   "pygments_lexer": "ipython3",
   "version": "3.11.7"
  }
 },
 "nbformat": 4,
 "nbformat_minor": 5
}
